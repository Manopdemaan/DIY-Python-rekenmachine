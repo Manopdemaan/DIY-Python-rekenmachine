{
 "cells": [
  {
   "cell_type": "markdown",
   "id": "68c79068",
   "metadata": {},
   "source": [
    "# Rekenmachine\n"
   ]
  },
  {
   "cell_type": "markdown",
   "id": "f3ae05d4",
   "metadata": {},
   "source": [
    "Vraag de gebruiker om input"
   ]
  },
  {
   "cell_type": "code",
   "execution_count": 10,
   "id": "7713f093",
   "metadata": {},
   "outputs": [
    {
     "name": "stdout",
     "output_type": "stream",
     "text": [
      "typ getal 14\n",
      "typ getal 24\n",
      "typ de operatie die je wilt doen*\n",
      "16.0\n"
     ]
    }
   ],
   "source": [
    "eerste_getal = input('typ getal 1')\n",
    "tweede_getal = input('typ getal 2')\n",
    "operatie = input('typ de operatie die je wilt doen')\n",
    "\n",
    "try:\n",
    "    getal_1 = float(eerste_getal)\n",
    "    getal_2 = float(tweede_getal)\n",
    "except ValueError:\n",
    "    print('ongeldige getal')\n",
    "    getal_1 = none\n",
    "    getal_2 = none\n",
    "\n",
    "if operatie in ['+', '-', '*', '/']:\n",
    "    if operatie == '+':\n",
    "        result = getal_1 + getal_2\n",
    "    elif operatie == '-':\n",
    "        result = getal_1 - getal_2\n",
    "    elif operatie == '*':\n",
    "        result = getal_1 * getal_2\n",
    "    elif operatie == '/':\n",
    "        result = getal_1 / getal_2\n",
    "else:\n",
    "    print('ongeldige getal')\n",
    "print(result)"
   ]
  },
  {
   "cell_type": "markdown",
   "id": "282aea2e",
   "metadata": {},
   "source": [
    "Als het goed is, hebben de getallen de datatype float."
   ]
  },
  {
   "cell_type": "code",
   "execution_count": 6,
   "id": "889695d3",
   "metadata": {},
   "outputs": [
    {
     "name": "stdout",
     "output_type": "stream",
     "text": [
      "<class 'float'>\n",
      "<class 'float'>\n"
     ]
    }
   ],
   "source": [
    "print(type(getal_1))\n",
    "print(type(getal_2))"
   ]
  },
  {
   "cell_type": "code",
   "execution_count": null,
   "id": "5be912cc",
   "metadata": {},
   "outputs": [],
   "source": []
  }
 ],
 "metadata": {
  "kernelspec": {
   "display_name": "Python 3 (ipykernel)",
   "language": "python",
   "name": "python3"
  },
  "language_info": {
   "codemirror_mode": {
    "name": "ipython",
    "version": 3
   },
   "file_extension": ".py",
   "mimetype": "text/x-python",
   "name": "python",
   "nbconvert_exporter": "python",
   "pygments_lexer": "ipython3",
   "version": "3.11.0"
  }
 },
 "nbformat": 4,
 "nbformat_minor": 5
}
